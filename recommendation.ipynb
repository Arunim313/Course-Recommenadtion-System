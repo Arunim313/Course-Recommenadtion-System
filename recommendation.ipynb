{
 "cells": [
  {
   "cell_type": "code",
   "execution_count": 2,
   "id": "99352778",
   "metadata": {},
   "outputs": [],
   "source": [
    "# importing all necessary libraries\n",
    "import mysql\n",
    "import mysql.connector\n",
    "from mysql.connector import Error\n",
    "from sqlalchemy import create_engine\n",
    "import pandas as pd\n",
    "import sqlalchemy #version 1.4.46\n"
   ]
  },
  {
   "cell_type": "code",
   "execution_count": 3,
   "id": "a70bea15",
   "metadata": {},
   "outputs": [],
   "source": [
    "# Function to extract table to a pandas DataFrame\n",
    "def extract_table_to_pandas(tablename, db_engine_1):\n",
    "    query = \"SELECT * FROM {}\".format(tablename)\n",
    "    return pd.read_sql(query, db_engine_1)\n",
    "\n",
    "db_engine_1 = create_engine('mysql+mysqlconnector://{0}:{1}@{2}/{3}'.\n",
    "                                                   format('subnet_user', 'subnet_user123', \n",
    "                                                          'localhost', 'elearning'))"
   ]
  },
  {
   "attachments": {},
   "cell_type": "markdown",
   "id": "17f19adc",
   "metadata": {},
   "source": [
    "### Funtion to extract useful information from database"
   ]
  },
  {
   "cell_type": "code",
   "execution_count": 4,
   "id": "244ef6ae",
   "metadata": {},
   "outputs": [],
   "source": [
    "def extract_rating_data(db_engine_1):\n",
    "    return pd.read_sql(\"SELECT * FROM rating\", db_engine_1)\n",
    "\n",
    "def extract_course_data(db_engine_1):\n",
    "    return pd.read_sql(\"SELECT * FROM courses\", db_engine_1)"
   ]
  },
  {
   "cell_type": "code",
   "execution_count": 5,
   "id": "9b0c3ef1",
   "metadata": {},
   "outputs": [],
   "source": [
    "ratings = extract_rating_data(db_engine_1)\n",
    "\n",
    "course_data = extract_course_data(db_engine_1)"
   ]
  },
  {
   "cell_type": "code",
   "execution_count": 6,
   "id": "52943672",
   "metadata": {},
   "outputs": [
    {
     "data": {
      "text/html": [
       "<div>\n",
       "<style scoped>\n",
       "    .dataframe tbody tr th:only-of-type {\n",
       "        vertical-align: middle;\n",
       "    }\n",
       "\n",
       "    .dataframe tbody tr th {\n",
       "        vertical-align: top;\n",
       "    }\n",
       "\n",
       "    .dataframe thead th {\n",
       "        text-align: right;\n",
       "    }\n",
       "</style>\n",
       "<table border=\"1\" class=\"dataframe\">\n",
       "  <thead>\n",
       "    <tr style=\"text-align: right;\">\n",
       "      <th></th>\n",
       "      <th>user_id</th>\n",
       "      <th>course_id</th>\n",
       "      <th>rating</th>\n",
       "    </tr>\n",
       "  </thead>\n",
       "  <tbody>\n",
       "    <tr>\n",
       "      <th>0</th>\n",
       "      <td>1</td>\n",
       "      <td>6</td>\n",
       "      <td>4</td>\n",
       "    </tr>\n",
       "    <tr>\n",
       "      <th>1</th>\n",
       "      <td>1</td>\n",
       "      <td>36</td>\n",
       "      <td>5</td>\n",
       "    </tr>\n",
       "    <tr>\n",
       "      <th>2</th>\n",
       "      <td>1</td>\n",
       "      <td>37</td>\n",
       "      <td>5</td>\n",
       "    </tr>\n",
       "    <tr>\n",
       "      <th>3</th>\n",
       "      <td>1</td>\n",
       "      <td>45</td>\n",
       "      <td>5</td>\n",
       "    </tr>\n",
       "    <tr>\n",
       "      <th>4</th>\n",
       "      <td>1</td>\n",
       "      <td>50</td>\n",
       "      <td>5</td>\n",
       "    </tr>\n",
       "  </tbody>\n",
       "</table>\n",
       "</div>"
      ],
      "text/plain": [
       "   user_id  course_id  rating\n",
       "0        1          6       4\n",
       "1        1         36       5\n",
       "2        1         37       5\n",
       "3        1         45       5\n",
       "4        1         50       5"
      ]
     },
     "execution_count": 6,
     "metadata": {},
     "output_type": "execute_result"
    }
   ],
   "source": [
    "ratings.head()"
   ]
  },
  {
   "cell_type": "code",
   "execution_count": 7,
   "id": "14d5b735",
   "metadata": {},
   "outputs": [
    {
     "data": {
      "text/html": [
       "<div>\n",
       "<style scoped>\n",
       "    .dataframe tbody tr th:only-of-type {\n",
       "        vertical-align: middle;\n",
       "    }\n",
       "\n",
       "    .dataframe tbody tr th {\n",
       "        vertical-align: top;\n",
       "    }\n",
       "\n",
       "    .dataframe thead th {\n",
       "        text-align: right;\n",
       "    }\n",
       "</style>\n",
       "<table border=\"1\" class=\"dataframe\">\n",
       "  <thead>\n",
       "    <tr style=\"text-align: right;\">\n",
       "      <th></th>\n",
       "      <th>course_id</th>\n",
       "      <th>title</th>\n",
       "      <th>description</th>\n",
       "      <th>programming_language</th>\n",
       "    </tr>\n",
       "  </thead>\n",
       "  <tbody>\n",
       "    <tr>\n",
       "      <th>0</th>\n",
       "      <td>1</td>\n",
       "      <td>Machine Learning with Apache Spark</td>\n",
       "      <td>Spark is a powerful, general purpose tool for ...</td>\n",
       "      <td>python</td>\n",
       "    </tr>\n",
       "    <tr>\n",
       "      <th>1</th>\n",
       "      <td>2</td>\n",
       "      <td>Financial Analytics in Spreadsheets</td>\n",
       "      <td>Monitoring the evolution of traded assets is k...</td>\n",
       "      <td>spreadsheets</td>\n",
       "    </tr>\n",
       "    <tr>\n",
       "      <th>2</th>\n",
       "      <td>3</td>\n",
       "      <td>Intermediate R</td>\n",
       "      <td>The intermediate R course is the logical next ...</td>\n",
       "      <td>r</td>\n",
       "    </tr>\n",
       "    <tr>\n",
       "      <th>3</th>\n",
       "      <td>4</td>\n",
       "      <td>Data Visualization with ggplot2 (Part 2)</td>\n",
       "      <td>This ggplot2 tutorial builds on your knowledge...</td>\n",
       "      <td>r</td>\n",
       "    </tr>\n",
       "    <tr>\n",
       "      <th>4</th>\n",
       "      <td>5</td>\n",
       "      <td>Fraud Detection in R</td>\n",
       "      <td>The Association of Certified Fraud Examiners e...</td>\n",
       "      <td>r</td>\n",
       "    </tr>\n",
       "  </tbody>\n",
       "</table>\n",
       "</div>"
      ],
      "text/plain": [
       "   course_id                                     title  \\\n",
       "0          1        Machine Learning with Apache Spark   \n",
       "1          2       Financial Analytics in Spreadsheets   \n",
       "2          3                            Intermediate R   \n",
       "3          4  Data Visualization with ggplot2 (Part 2)   \n",
       "4          5                      Fraud Detection in R   \n",
       "\n",
       "                                         description programming_language  \n",
       "0  Spark is a powerful, general purpose tool for ...               python  \n",
       "1  Monitoring the evolution of traded assets is k...         spreadsheets  \n",
       "2  The intermediate R course is the logical next ...                    r  \n",
       "3  This ggplot2 tutorial builds on your knowledge...                    r  \n",
       "4  The Association of Certified Fraud Examiners e...                    r  "
      ]
     },
     "execution_count": 7,
     "metadata": {},
     "output_type": "execute_result"
    }
   ],
   "source": [
    "course_data.head()"
   ]
  },
  {
   "cell_type": "code",
   "execution_count": 8,
   "id": "c408488f",
   "metadata": {},
   "outputs": [],
   "source": [
    "# pl = course_data['programming_language']\n",
    "# pl = pd.DataFrame(pl)\n",
    "# pl"
   ]
  },
  {
   "cell_type": "code",
   "execution_count": 9,
   "id": "bf5a59b2",
   "metadata": {},
   "outputs": [
    {
     "data": {
      "text/plain": [
       "38174"
      ]
     },
     "execution_count": 9,
     "metadata": {},
     "output_type": "execute_result"
    }
   ],
   "source": [
    "ratings.user_id.nunique()"
   ]
  },
  {
   "cell_type": "code",
   "execution_count": 10,
   "id": "46d35d33",
   "metadata": {},
   "outputs": [
    {
     "data": {
      "text/plain": [
       "100"
      ]
     },
     "execution_count": 10,
     "metadata": {},
     "output_type": "execute_result"
    }
   ],
   "source": [
    "course_data.course_id.nunique()"
   ]
  },
  {
   "cell_type": "code",
   "execution_count": 11,
   "id": "c0b436c5",
   "metadata": {},
   "outputs": [
    {
     "data": {
      "text/plain": [
       "course_id               0\n",
       "title                   0\n",
       "description             0\n",
       "programming_language    3\n",
       "dtype: int64"
      ]
     },
     "execution_count": 11,
     "metadata": {},
     "output_type": "execute_result"
    }
   ],
   "source": [
    "course_data.isnull().sum()"
   ]
  },
  {
   "attachments": {},
   "cell_type": "markdown",
   "id": "3faf3288",
   "metadata": {},
   "source": [
    "### filling null values in programming language wirh 'r'"
   ]
  },
  {
   "cell_type": "code",
   "execution_count": 12,
   "id": "6f8bf091",
   "metadata": {},
   "outputs": [
    {
     "name": "stdout",
     "output_type": "stream",
     "text": [
      "course_id               0\n",
      "title                   0\n",
      "description             0\n",
      "programming_language    0\n",
      "dtype: int64\n"
     ]
    }
   ],
   "source": [
    "# The transformation should fill in the missing values\n",
    "def transform_fill_programming_language(course_data):\n",
    "    imputed = course_data.fillna({\"programming_language\": \"r\"})\n",
    "    return imputed\n",
    "\n",
    "transformed = transform_fill_programming_language(course_data)\n",
    "\n",
    "# Print out the number of missing values per column of transformed\n",
    "print(transformed.isnull().sum())"
   ]
  },
  {
   "attachments": {},
   "cell_type": "markdown",
   "id": "175d2b89",
   "metadata": {},
   "source": [
    "### Showing total programming languages in percentage"
   ]
  },
  {
   "cell_type": "code",
   "execution_count": 13,
   "id": "432891d9",
   "metadata": {},
   "outputs": [
    {
     "data": {
      "text/plain": [
       "array(['python', 'spreadsheets', 'r', 'sql', 'shell', None], dtype=object)"
      ]
     },
     "execution_count": 13,
     "metadata": {},
     "output_type": "execute_result"
    }
   ],
   "source": [
    "course_data['programming_language'].unique()"
   ]
  },
  {
   "cell_type": "code",
   "execution_count": 14,
   "id": "444c40a8",
   "metadata": {},
   "outputs": [
    {
     "data": {
      "text/plain": [
       "r               51.546392\n",
       "python          37.113402\n",
       "sql              6.185567\n",
       "shell            3.092784\n",
       "spreadsheets     2.061856\n",
       "Name: programming_language, dtype: float64"
      ]
     },
     "execution_count": 14,
     "metadata": {},
     "output_type": "execute_result"
    }
   ],
   "source": [
    "(course_data['programming_language'].value_counts()/course_data['programming_language'].count())*100"
   ]
  },
  {
   "attachments": {},
   "cell_type": "markdown",
   "id": "5454f6f7",
   "metadata": {},
   "source": [
    "## finding most rated course in databse\n",
    "## transformation function"
   ]
  },
  {
   "cell_type": "code",
   "execution_count": 15,
   "id": "4b4075d0",
   "metadata": {},
   "outputs": [],
   "source": [
    "# transformation function\n",
    "def transform_avg_rating(rating_data):\n",
    "    # Group by course_id and extract average rating per course\n",
    "    avg_rating = rating_data.groupby('course_id').rating.mean()\n",
    "    # Return sorted average ratings per course\n",
    "    sort_rating = avg_rating.sort_values(ascending=False).reset_index()\n",
    "    return sort_rating"
   ]
  },
  {
   "cell_type": "code",
   "execution_count": 16,
   "id": "f2e6b070",
   "metadata": {},
   "outputs": [
    {
     "name": "stdout",
     "output_type": "stream",
     "text": [
      "    course_id    rating\n",
      "0          46  4.800000\n",
      "1          23  4.800000\n",
      "2          96  4.692765\n",
      "3          56  4.661765\n",
      "4          24  4.653061\n",
      "..        ...       ...\n",
      "94         54  4.238095\n",
      "95         92  4.222222\n",
      "96         29  4.208333\n",
      "97         17  4.147059\n",
      "98         42  4.107570\n",
      "\n",
      "[99 rows x 2 columns]\n"
     ]
    }
   ],
   "source": [
    "# Use transform_avg_rating on the extracted data and print results\n",
    "avg_course_ratings = transform_avg_rating(ratings)\n",
    "print(avg_course_ratings) "
   ]
  },
  {
   "attachments": {},
   "cell_type": "markdown",
   "id": "e4e72f3f",
   "metadata": {},
   "source": [
    "### Creating database of users and the course id's in which they are not enrolled "
   ]
  },
  {
   "cell_type": "code",
   "execution_count": 20,
   "id": "6bcd78a1",
   "metadata": {},
   "outputs": [],
   "source": [
    "def get_courses_to_recommend(ratings, course_data):\n",
    "    user_list = ratings.user_id.unique()\n",
    "    #38174\n",
    "    \n",
    "    languages_set = set(course_data.programming_language.unique())    \n",
    "    course_set = set(course_data.course_id.unique())\n",
    "    \n",
    "    non_enrolled_users = []\n",
    "\n",
    "    for user in user_list:\n",
    "        rated_course_set = set(ratings[ratings.user_id == user].course_id.unique())\n",
    "        non_enrolled_courses = course_set - rated_course_set\n",
    "        language_enrolled_set = set(course_data[course_data.course_id.isin(rated_course_set)].programming_language.unique())\n",
    "        non_enrolled_languages = languages_set - language_enrolled_set\n",
    "        non_enrolled_users = non_enrolled_users + [(user, cid) for cid in non_enrolled_courses]\n",
    "        break\n",
    "    non_enrolled_courses_df = pd.DataFrame(non_enrolled_users, columns = ['user_id', 'course_id'])\n",
    "    return non_enrolled_courses_df\n",
    "\n",
    "courses_to_recommend = get_courses_to_recommend(ratings, course_data)\n",
    "courses_to_recommend.to_csv('courses_to_recommend.csv', index = False)\n",
    "courses_to_recommend.sample(n=50).to_csv('courses_to_recommend_small.csv', index = False)"
   ]
  },
  {
   "cell_type": "code",
   "execution_count": 22,
   "id": "37c67b84",
   "metadata": {},
   "outputs": [
    {
     "data": {
      "text/plain": [
       "94"
      ]
     },
     "execution_count": 22,
     "metadata": {},
     "output_type": "execute_result"
    }
   ],
   "source": [
    "len(courses_to_recommend)\n",
    "# 3854714"
   ]
  },
  {
   "cell_type": "code",
   "execution_count": 23,
   "id": "aad00b06",
   "metadata": {},
   "outputs": [
    {
     "data": {
      "text/html": [
       "<div>\n",
       "<style scoped>\n",
       "    .dataframe tbody tr th:only-of-type {\n",
       "        vertical-align: middle;\n",
       "    }\n",
       "\n",
       "    .dataframe tbody tr th {\n",
       "        vertical-align: top;\n",
       "    }\n",
       "\n",
       "    .dataframe thead th {\n",
       "        text-align: right;\n",
       "    }\n",
       "</style>\n",
       "<table border=\"1\" class=\"dataframe\">\n",
       "  <thead>\n",
       "    <tr style=\"text-align: right;\">\n",
       "      <th></th>\n",
       "      <th>user_id</th>\n",
       "      <th>course_id</th>\n",
       "    </tr>\n",
       "  </thead>\n",
       "  <tbody>\n",
       "    <tr>\n",
       "      <th>0</th>\n",
       "      <td>1</td>\n",
       "      <td>1</td>\n",
       "    </tr>\n",
       "    <tr>\n",
       "      <th>1</th>\n",
       "      <td>1</td>\n",
       "      <td>2</td>\n",
       "    </tr>\n",
       "    <tr>\n",
       "      <th>2</th>\n",
       "      <td>1</td>\n",
       "      <td>3</td>\n",
       "    </tr>\n",
       "    <tr>\n",
       "      <th>3</th>\n",
       "      <td>1</td>\n",
       "      <td>4</td>\n",
       "    </tr>\n",
       "    <tr>\n",
       "      <th>4</th>\n",
       "      <td>1</td>\n",
       "      <td>5</td>\n",
       "    </tr>\n",
       "    <tr>\n",
       "      <th>5</th>\n",
       "      <td>1</td>\n",
       "      <td>7</td>\n",
       "    </tr>\n",
       "    <tr>\n",
       "      <th>6</th>\n",
       "      <td>1</td>\n",
       "      <td>8</td>\n",
       "    </tr>\n",
       "    <tr>\n",
       "      <th>7</th>\n",
       "      <td>1</td>\n",
       "      <td>9</td>\n",
       "    </tr>\n",
       "    <tr>\n",
       "      <th>8</th>\n",
       "      <td>1</td>\n",
       "      <td>10</td>\n",
       "    </tr>\n",
       "    <tr>\n",
       "      <th>9</th>\n",
       "      <td>1</td>\n",
       "      <td>11</td>\n",
       "    </tr>\n",
       "  </tbody>\n",
       "</table>\n",
       "</div>"
      ],
      "text/plain": [
       "   user_id  course_id\n",
       "0        1          1\n",
       "1        1          2\n",
       "2        1          3\n",
       "3        1          4\n",
       "4        1          5\n",
       "5        1          7\n",
       "6        1          8\n",
       "7        1          9\n",
       "8        1         10\n",
       "9        1         11"
      ]
     },
     "execution_count": 23,
     "metadata": {},
     "output_type": "execute_result"
    }
   ],
   "source": [
    "courses_to_recommend.head(10)"
   ]
  },
  {
   "cell_type": "code",
   "execution_count": 26,
   "id": "b0a7daf2",
   "metadata": {},
   "outputs": [
    {
     "data": {
      "text/html": [
       "<div>\n",
       "<style scoped>\n",
       "    .dataframe tbody tr th:only-of-type {\n",
       "        vertical-align: middle;\n",
       "    }\n",
       "\n",
       "    .dataframe tbody tr th {\n",
       "        vertical-align: top;\n",
       "    }\n",
       "\n",
       "    .dataframe thead th {\n",
       "        text-align: right;\n",
       "    }\n",
       "</style>\n",
       "<table border=\"1\" class=\"dataframe\">\n",
       "  <thead>\n",
       "    <tr style=\"text-align: right;\">\n",
       "      <th></th>\n",
       "      <th>user_id</th>\n",
       "      <th>course_id</th>\n",
       "    </tr>\n",
       "  </thead>\n",
       "  <tbody>\n",
       "    <tr>\n",
       "      <th>0</th>\n",
       "      <td>1</td>\n",
       "      <td>1</td>\n",
       "    </tr>\n",
       "    <tr>\n",
       "      <th>1</th>\n",
       "      <td>1</td>\n",
       "      <td>2</td>\n",
       "    </tr>\n",
       "    <tr>\n",
       "      <th>2</th>\n",
       "      <td>1</td>\n",
       "      <td>3</td>\n",
       "    </tr>\n",
       "    <tr>\n",
       "      <th>3</th>\n",
       "      <td>1</td>\n",
       "      <td>4</td>\n",
       "    </tr>\n",
       "    <tr>\n",
       "      <th>4</th>\n",
       "      <td>1</td>\n",
       "      <td>5</td>\n",
       "    </tr>\n",
       "    <tr>\n",
       "      <th>...</th>\n",
       "      <td>...</td>\n",
       "      <td>...</td>\n",
       "    </tr>\n",
       "    <tr>\n",
       "      <th>89</th>\n",
       "      <td>1</td>\n",
       "      <td>96</td>\n",
       "    </tr>\n",
       "    <tr>\n",
       "      <th>90</th>\n",
       "      <td>1</td>\n",
       "      <td>97</td>\n",
       "    </tr>\n",
       "    <tr>\n",
       "      <th>91</th>\n",
       "      <td>1</td>\n",
       "      <td>98</td>\n",
       "    </tr>\n",
       "    <tr>\n",
       "      <th>92</th>\n",
       "      <td>1</td>\n",
       "      <td>99</td>\n",
       "    </tr>\n",
       "    <tr>\n",
       "      <th>93</th>\n",
       "      <td>1</td>\n",
       "      <td>100</td>\n",
       "    </tr>\n",
       "  </tbody>\n",
       "</table>\n",
       "<p>94 rows × 2 columns</p>\n",
       "</div>"
      ],
      "text/plain": [
       "    user_id  course_id\n",
       "0         1          1\n",
       "1         1          2\n",
       "2         1          3\n",
       "3         1          4\n",
       "4         1          5\n",
       "..      ...        ...\n",
       "89        1         96\n",
       "90        1         97\n",
       "91        1         98\n",
       "92        1         99\n",
       "93        1        100\n",
       "\n",
       "[94 rows x 2 columns]"
      ]
     },
     "execution_count": 26,
     "metadata": {},
     "output_type": "execute_result"
    }
   ],
   "source": [
    "courses_to_recommend[courses_to_recommend['user_id']==1]"
   ]
  },
  {
   "cell_type": "code",
   "execution_count": 27,
   "id": "36740fef",
   "metadata": {},
   "outputs": [],
   "source": [
    "# Complete the transformation function\n",
    "def transform_recommendations(avg_course_ratings, courses_to_recommend):\n",
    "    # Merge both DataFrames\n",
    "    merged = courses_to_recommend.merge(avg_course_ratings) \n",
    "    \n",
    "    # Sort values by rating and group by user_id\n",
    "    grouped = merged.sort_values(\"rating\", ascending=False).groupby(\"user_id\")\n",
    "    \n",
    "    # Produce the top 3 values and sort by user_id\n",
    "    recommendations = grouped.head(10).sort_values(\"user_id\").reset_index()\n",
    "    \n",
    "    final_recommendations = recommendations[[\"user_id\", \"course_id\",\"rating\"]]\n",
    "    \n",
    "    # Return final recommendations\n",
    "    return final_recommendations\n",
    "\n",
    "\n",
    "# Use the function with the predefined DataFrame objects\n",
    "recommendations = transform_recommendations(avg_course_ratings, courses_to_recommend)"
   ]
  },
  {
   "cell_type": "code",
   "execution_count": 28,
   "id": "409a53ce",
   "metadata": {},
   "outputs": [
    {
     "data": {
      "text/html": [
       "<div>\n",
       "<style scoped>\n",
       "    .dataframe tbody tr th:only-of-type {\n",
       "        vertical-align: middle;\n",
       "    }\n",
       "\n",
       "    .dataframe tbody tr th {\n",
       "        vertical-align: top;\n",
       "    }\n",
       "\n",
       "    .dataframe thead th {\n",
       "        text-align: right;\n",
       "    }\n",
       "</style>\n",
       "<table border=\"1\" class=\"dataframe\">\n",
       "  <thead>\n",
       "    <tr style=\"text-align: right;\">\n",
       "      <th></th>\n",
       "      <th>user_id</th>\n",
       "      <th>course_id</th>\n",
       "      <th>rating</th>\n",
       "    </tr>\n",
       "  </thead>\n",
       "  <tbody>\n",
       "    <tr>\n",
       "      <th>0</th>\n",
       "      <td>1</td>\n",
       "      <td>23</td>\n",
       "      <td>4.800000</td>\n",
       "    </tr>\n",
       "    <tr>\n",
       "      <th>1</th>\n",
       "      <td>1</td>\n",
       "      <td>46</td>\n",
       "      <td>4.800000</td>\n",
       "    </tr>\n",
       "    <tr>\n",
       "      <th>2</th>\n",
       "      <td>1</td>\n",
       "      <td>96</td>\n",
       "      <td>4.692765</td>\n",
       "    </tr>\n",
       "    <tr>\n",
       "      <th>3</th>\n",
       "      <td>1</td>\n",
       "      <td>56</td>\n",
       "      <td>4.661765</td>\n",
       "    </tr>\n",
       "    <tr>\n",
       "      <th>4</th>\n",
       "      <td>1</td>\n",
       "      <td>24</td>\n",
       "      <td>4.653061</td>\n",
       "    </tr>\n",
       "    <tr>\n",
       "      <th>5</th>\n",
       "      <td>1</td>\n",
       "      <td>26</td>\n",
       "      <td>4.646259</td>\n",
       "    </tr>\n",
       "    <tr>\n",
       "      <th>6</th>\n",
       "      <td>1</td>\n",
       "      <td>61</td>\n",
       "      <td>4.629213</td>\n",
       "    </tr>\n",
       "    <tr>\n",
       "      <th>7</th>\n",
       "      <td>1</td>\n",
       "      <td>85</td>\n",
       "      <td>4.627119</td>\n",
       "    </tr>\n",
       "    <tr>\n",
       "      <th>8</th>\n",
       "      <td>1</td>\n",
       "      <td>87</td>\n",
       "      <td>4.626374</td>\n",
       "    </tr>\n",
       "    <tr>\n",
       "      <th>9</th>\n",
       "      <td>1</td>\n",
       "      <td>31</td>\n",
       "      <td>4.610209</td>\n",
       "    </tr>\n",
       "  </tbody>\n",
       "</table>\n",
       "</div>"
      ],
      "text/plain": [
       "   user_id  course_id    rating\n",
       "0        1         23  4.800000\n",
       "1        1         46  4.800000\n",
       "2        1         96  4.692765\n",
       "3        1         56  4.661765\n",
       "4        1         24  4.653061\n",
       "5        1         26  4.646259\n",
       "6        1         61  4.629213\n",
       "7        1         85  4.627119\n",
       "8        1         87  4.626374\n",
       "9        1         31  4.610209"
      ]
     },
     "execution_count": 28,
     "metadata": {},
     "output_type": "execute_result"
    }
   ],
   "source": [
    "recommendations"
   ]
  },
  {
   "cell_type": "code",
   "execution_count": null,
   "id": "bfee0df8",
   "metadata": {},
   "outputs": [],
   "source": [
    "# def a(x):\n",
    "#     return [x,course_data[course_data.course_id == x].programming_language]\n",
    "# recomend = list(map(a,recommendations.course_id))"
   ]
  },
  {
   "cell_type": "code",
   "execution_count": 83,
   "id": "300e5bec",
   "metadata": {
    "scrolled": false
   },
   "outputs": [
    {
     "data": {
      "text/html": [
       "<div>\n",
       "<style scoped>\n",
       "    .dataframe tbody tr th:only-of-type {\n",
       "        vertical-align: middle;\n",
       "    }\n",
       "\n",
       "    .dataframe tbody tr th {\n",
       "        vertical-align: top;\n",
       "    }\n",
       "\n",
       "    .dataframe thead th {\n",
       "        text-align: right;\n",
       "    }\n",
       "</style>\n",
       "<table border=\"1\" class=\"dataframe\">\n",
       "  <thead>\n",
       "    <tr style=\"text-align: right;\">\n",
       "      <th></th>\n",
       "      <th>user_id</th>\n",
       "      <th>course_id</th>\n",
       "      <th>rating</th>\n",
       "      <th>title</th>\n",
       "      <th>description</th>\n",
       "      <th>programming_language</th>\n",
       "    </tr>\n",
       "  </thead>\n",
       "  <tbody>\n",
       "    <tr>\n",
       "      <th>0</th>\n",
       "      <td>1</td>\n",
       "      <td>24</td>\n",
       "      <td>4.653061</td>\n",
       "      <td>Nonlinear Modeling in R with GAMs</td>\n",
       "      <td>Generalized Additive Models are a powerful too...</td>\n",
       "      <td>r</td>\n",
       "    </tr>\n",
       "    <tr>\n",
       "      <th>1</th>\n",
       "      <td>2</td>\n",
       "      <td>24</td>\n",
       "      <td>4.653061</td>\n",
       "      <td>Nonlinear Modeling in R with GAMs</td>\n",
       "      <td>Generalized Additive Models are a powerful too...</td>\n",
       "      <td>r</td>\n",
       "    </tr>\n",
       "    <tr>\n",
       "      <th>2</th>\n",
       "      <td>3</td>\n",
       "      <td>24</td>\n",
       "      <td>4.653061</td>\n",
       "      <td>Nonlinear Modeling in R with GAMs</td>\n",
       "      <td>Generalized Additive Models are a powerful too...</td>\n",
       "      <td>r</td>\n",
       "    </tr>\n",
       "    <tr>\n",
       "      <th>3</th>\n",
       "      <td>4</td>\n",
       "      <td>24</td>\n",
       "      <td>4.653061</td>\n",
       "      <td>Nonlinear Modeling in R with GAMs</td>\n",
       "      <td>Generalized Additive Models are a powerful too...</td>\n",
       "      <td>r</td>\n",
       "    </tr>\n",
       "    <tr>\n",
       "      <th>4</th>\n",
       "      <td>5</td>\n",
       "      <td>24</td>\n",
       "      <td>4.653061</td>\n",
       "      <td>Nonlinear Modeling in R with GAMs</td>\n",
       "      <td>Generalized Additive Models are a powerful too...</td>\n",
       "      <td>r</td>\n",
       "    </tr>\n",
       "    <tr>\n",
       "      <th>...</th>\n",
       "      <td>...</td>\n",
       "      <td>...</td>\n",
       "      <td>...</td>\n",
       "      <td>...</td>\n",
       "      <td>...</td>\n",
       "      <td>...</td>\n",
       "    </tr>\n",
       "    <tr>\n",
       "      <th>381735</th>\n",
       "      <td>16456</td>\n",
       "      <td>28</td>\n",
       "      <td>4.578947</td>\n",
       "      <td>Python for Spreadsheet Users</td>\n",
       "      <td>Are you looking for a better solution than the...</td>\n",
       "      <td>python</td>\n",
       "    </tr>\n",
       "    <tr>\n",
       "      <th>381736</th>\n",
       "      <td>12087</td>\n",
       "      <td>35</td>\n",
       "      <td>4.588235</td>\n",
       "      <td>Interactive Data Visualization with rbokeh</td>\n",
       "      <td>Data visualization is an integral part of the ...</td>\n",
       "      <td>r</td>\n",
       "    </tr>\n",
       "    <tr>\n",
       "      <th>381737</th>\n",
       "      <td>16456</td>\n",
       "      <td>35</td>\n",
       "      <td>4.588235</td>\n",
       "      <td>Interactive Data Visualization with rbokeh</td>\n",
       "      <td>Data visualization is an integral part of the ...</td>\n",
       "      <td>r</td>\n",
       "    </tr>\n",
       "    <tr>\n",
       "      <th>381738</th>\n",
       "      <td>25147</td>\n",
       "      <td>35</td>\n",
       "      <td>4.588235</td>\n",
       "      <td>Interactive Data Visualization with rbokeh</td>\n",
       "      <td>Data visualization is an integral part of the ...</td>\n",
       "      <td>r</td>\n",
       "    </tr>\n",
       "    <tr>\n",
       "      <th>381739</th>\n",
       "      <td>25147</td>\n",
       "      <td>76</td>\n",
       "      <td>4.589744</td>\n",
       "      <td>Interactive Maps with leaflet in R</td>\n",
       "      <td>Get ready to have some fun with maps! Interact...</td>\n",
       "      <td>r</td>\n",
       "    </tr>\n",
       "  </tbody>\n",
       "</table>\n",
       "<p>381740 rows × 6 columns</p>\n",
       "</div>"
      ],
      "text/plain": [
       "        user_id  course_id    rating  \\\n",
       "0             1         24  4.653061   \n",
       "1             2         24  4.653061   \n",
       "2             3         24  4.653061   \n",
       "3             4         24  4.653061   \n",
       "4             5         24  4.653061   \n",
       "...         ...        ...       ...   \n",
       "381735    16456         28  4.578947   \n",
       "381736    12087         35  4.588235   \n",
       "381737    16456         35  4.588235   \n",
       "381738    25147         35  4.588235   \n",
       "381739    25147         76  4.589744   \n",
       "\n",
       "                                             title  \\\n",
       "0                Nonlinear Modeling in R with GAMs   \n",
       "1                Nonlinear Modeling in R with GAMs   \n",
       "2                Nonlinear Modeling in R with GAMs   \n",
       "3                Nonlinear Modeling in R with GAMs   \n",
       "4                Nonlinear Modeling in R with GAMs   \n",
       "...                                            ...   \n",
       "381735                Python for Spreadsheet Users   \n",
       "381736  Interactive Data Visualization with rbokeh   \n",
       "381737  Interactive Data Visualization with rbokeh   \n",
       "381738  Interactive Data Visualization with rbokeh   \n",
       "381739          Interactive Maps with leaflet in R   \n",
       "\n",
       "                                              description programming_language  \n",
       "0       Generalized Additive Models are a powerful too...                    r  \n",
       "1       Generalized Additive Models are a powerful too...                    r  \n",
       "2       Generalized Additive Models are a powerful too...                    r  \n",
       "3       Generalized Additive Models are a powerful too...                    r  \n",
       "4       Generalized Additive Models are a powerful too...                    r  \n",
       "...                                                   ...                  ...  \n",
       "381735  Are you looking for a better solution than the...               python  \n",
       "381736  Data visualization is an integral part of the ...                    r  \n",
       "381737  Data visualization is an integral part of the ...                    r  \n",
       "381738  Data visualization is an integral part of the ...                    r  \n",
       "381739  Get ready to have some fun with maps! Interact...                    r  \n",
       "\n",
       "[381740 rows x 6 columns]"
      ]
     },
     "execution_count": 83,
     "metadata": {},
     "output_type": "execute_result"
    }
   ],
   "source": [
    "# recommendations = pd.merge(recommendations,course_data, on='course_id', how='inner')\n",
    "# recommendations"
   ]
  },
  {
   "attachments": {},
   "cell_type": "markdown",
   "id": "e5835f0c",
   "metadata": {},
   "source": [
    "### Load recommendations in database"
   ]
  },
  {
   "cell_type": "code",
   "execution_count": 29,
   "id": "4251b769",
   "metadata": {},
   "outputs": [],
   "source": [
    "def load_to_dwh(recommendations, db_engine_1):\n",
    "    recommendations.to_sql(\"recommendations\", db_engine_1, if_exists=\"replace\")"
   ]
  },
  {
   "cell_type": "code",
   "execution_count": 30,
   "id": "0b7bccd9",
   "metadata": {},
   "outputs": [],
   "source": [
    "load_to_dwh(recommendations, db_engine_1)"
   ]
  },
  {
   "attachments": {},
   "cell_type": "markdown",
   "id": "fb720782",
   "metadata": {},
   "source": [
    "### Function to recommend courses to user based on user's choice of programming language"
   ]
  },
  {
   "cell_type": "code",
   "execution_count": 38,
   "id": "d0237022",
   "metadata": {},
   "outputs": [
    {
     "name": "stdout",
     "output_type": "stream",
     "text": [
      "['GARCH Models in R' 'Designing and Analyzing Clinical Trials in R'\n",
      " 'Nonlinear Modeling in R with GAMs'\n",
      " 'Manipulating Time Series Data in R: Case Studies'\n",
      " 'Bond Valuation and Analysis in R'\n",
      " 'Introduction to Spark in R using sparklyr'\n",
      " 'Introduction to R for Finance']\n"
     ]
    }
   ],
   "source": [
    "def recommendations_for_user(user_id, programming_language, threshold ):\n",
    "    # Join with the courses table\n",
    "    query = \"\"\"\n",
    "    SELECT title, rating FROM recommendations\n",
    "    INNER JOIN courses ON courses.course_id = recommendations.course_id\n",
    "    WHERE (user_id=%(user_id)s AND programming_language=%(programming_language)s AND rating>%(threshold)s) \n",
    "    ORDER BY rating DESC\n",
    "    \"\"\"\n",
    "    # Add the threshold parameter\n",
    "    predictions_df = pd.read_sql(query, db_engine_1, params = {\"user_id\": user_id, \n",
    "                                                           \"threshold\": threshold,\n",
    "                                                            \"programming_language\":programming_language})\n",
    "    return predictions_df.title.values\n",
    "\n",
    "# Try the function you created\n",
    "print(recommendations_for_user(1,'r',4.1))\n"
   ]
  },
  {
   "cell_type": "code",
   "execution_count": 97,
   "id": "15d465bd",
   "metadata": {},
   "outputs": [
    {
     "name": "stdout",
     "output_type": "stream",
     "text": [
      "['GARCH Models in R' 'Designing and Analyzing Clinical Trials in R']\n"
     ]
    }
   ],
   "source": [
    "print(recommendations_for_user(9999,'r',4.7))"
   ]
  },
  {
   "cell_type": "code",
   "execution_count": 71,
   "id": "c46eb184",
   "metadata": {},
   "outputs": [
    {
     "name": "stdout",
     "output_type": "stream",
     "text": [
      "['Extreme Gradient Boosting with XGBoost' 'Introduction to Seaborn']\n"
     ]
    }
   ],
   "source": [
    "print(recommendations_for_user(1,'python',4.3))"
   ]
  },
  {
   "cell_type": "code",
   "execution_count": 104,
   "id": "cd8d9b4f",
   "metadata": {
    "scrolled": true
   },
   "outputs": [
    {
     "name": "stdout",
     "output_type": "stream",
     "text": [
      "['Intro to SQL for Data Science']\n"
     ]
    }
   ],
   "source": [
    "print(recommendations_for_user(9999,'sql',4.3))"
   ]
  },
  {
   "attachments": {},
   "cell_type": "markdown",
   "id": "c94ef188",
   "metadata": {},
   "source": [
    "## ETL: Combining all operations"
   ]
  },
  {
   "cell_type": "code",
   "execution_count": null,
   "id": "5a612cb6",
   "metadata": {},
   "outputs": [],
   "source": [
    "def etl(db_engine_1):\n",
    "    # Extract the data\n",
    "    courses = extract_course_data(db_engine_1)\n",
    "    rating = extract_rating_data(db_engine_1)\n",
    "    \n",
    "    # Clean up courses data\n",
    "    courses = transform_fill_programming_language(courses)\n",
    "    \n",
    "    # Get the average course ratings\n",
    "    avg_course_rating = transform_avg_rating(rating)\n",
    "    \n",
    "    # Get eligible user and course id pairs\n",
    "    courses_to_recommend = pd.read_csv('courses_to_recommend.csv')\n",
    "    \n",
    "    # Calculate the recommendations\n",
    "    recommendations = transform_recommendations(\n",
    "        avg_course_rating,\n",
    "        courses_to_recommend\n",
    "    )\n",
    "    \n",
    "    # Load the recommendations into the database\n",
    "    load_to_dwh(recommendations, db_engine_1)\n"
   ]
  },
  {
   "cell_type": "code",
   "execution_count": null,
   "id": "ee599557",
   "metadata": {},
   "outputs": [],
   "source": [
    "etl(db_engine)"
   ]
  },
  {
   "attachments": {},
   "cell_type": "markdown",
   "id": "e986cb52",
   "metadata": {},
   "source": [
    "### Calling main function"
   ]
  },
  {
   "cell_type": "code",
   "execution_count": 119,
   "id": "1fa41025",
   "metadata": {},
   "outputs": [
    {
     "name": "stdout",
     "output_type": "stream",
     "text": [
      "enter user id:27894\n",
      "enter language:python\n",
      "enter minimum rating of course:3.9\n",
      "['Extreme Gradient Boosting with XGBoost' 'Introduction to Seaborn']\n"
     ]
    }
   ],
   "source": [
    "a = int(input('enter user id:'))\n",
    "b = str(input('enter language:'))\n",
    "c = float(input('enter minimum rating of course:'))\n",
    "print(recommendations_for_user(a,b,c))"
   ]
  },
  {
   "cell_type": "code",
   "execution_count": 114,
   "id": "49574ce8",
   "metadata": {},
   "outputs": [
    {
     "name": "stdout",
     "output_type": "stream",
     "text": [
      "enter user id:1\n",
      "enter language:sql\n",
      "enter minimum rating of course:4.0\n",
      "['Intro to SQL for Data Science']\n"
     ]
    }
   ],
   "source": [
    "a = int(input('enter user id:'))\n",
    "b = str(input('enter language:'))\n",
    "c = float(input('enter minimum rating of course:'))\n",
    "print(recommendations_for_user(a,b,c))"
   ]
  },
  {
   "cell_type": "code",
   "execution_count": null,
   "id": "c31c8f18",
   "metadata": {},
   "outputs": [],
   "source": []
  }
 ],
 "metadata": {
  "kernelspec": {
   "display_name": "Python 3 (ipykernel)",
   "language": "python",
   "name": "python3"
  },
  "language_info": {
   "codemirror_mode": {
    "name": "ipython",
    "version": 3
   },
   "file_extension": ".py",
   "mimetype": "text/x-python",
   "name": "python",
   "nbconvert_exporter": "python",
   "pygments_lexer": "ipython3",
   "version": "3.11.1"
  }
 },
 "nbformat": 4,
 "nbformat_minor": 5
}
